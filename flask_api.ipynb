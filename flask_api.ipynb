{
 "cells": [
  {
   "cell_type": "code",
   "execution_count": 1,
   "id": "6ae19a64-9b27-41d6-9fb7-fcf125b6e939",
   "metadata": {},
   "outputs": [
    {
     "name": "stdout",
     "output_type": "stream",
     "text": [
      "Requirement already satisfied: pymongo in c:\\users\\lakshyaporwal\\anaconda3\\envs\\venv\\lib\\site-packages (4.10.1)\n",
      "Requirement already satisfied: dnspython<3.0.0,>=1.16.0 in c:\\users\\lakshyaporwal\\anaconda3\\envs\\venv\\lib\\site-packages (from pymongo) (2.7.0)\n"
     ]
    }
   ],
   "source": [
    "!pip install pymongo"
   ]
  },
  {
   "cell_type": "code",
   "execution_count": 2,
   "id": "50e7db14-6133-42ad-8c56-6f5a75c66b47",
   "metadata": {},
   "outputs": [
    {
     "name": "stdout",
     "output_type": "stream",
     "text": [
      "Requirement already satisfied: flask in c:\\users\\lakshyaporwal\\anaconda3\\envs\\venv\\lib\\site-packages (3.0.3)\n",
      "Requirement already satisfied: Werkzeug>=3.0.0 in c:\\users\\lakshyaporwal\\anaconda3\\envs\\venv\\lib\\site-packages (from flask) (3.0.4)\n",
      "Requirement already satisfied: Jinja2>=3.1.2 in c:\\users\\lakshyaporwal\\anaconda3\\envs\\venv\\lib\\site-packages (from flask) (3.1.4)\n",
      "Requirement already satisfied: itsdangerous>=2.1.2 in c:\\users\\lakshyaporwal\\anaconda3\\envs\\venv\\lib\\site-packages (from flask) (2.2.0)\n",
      "Requirement already satisfied: click>=8.1.3 in c:\\users\\lakshyaporwal\\anaconda3\\envs\\venv\\lib\\site-packages (from flask) (8.1.7)\n",
      "Requirement already satisfied: blinker>=1.6.2 in c:\\users\\lakshyaporwal\\anaconda3\\envs\\venv\\lib\\site-packages (from flask) (1.8.2)\n",
      "Requirement already satisfied: colorama in c:\\users\\lakshyaporwal\\anaconda3\\envs\\venv\\lib\\site-packages (from click>=8.1.3->flask) (0.4.6)\n",
      "Requirement already satisfied: MarkupSafe>=2.0 in c:\\users\\lakshyaporwal\\anaconda3\\envs\\venv\\lib\\site-packages (from Jinja2>=3.1.2->flask) (2.1.3)\n"
     ]
    }
   ],
   "source": [
    "!pip install flask"
   ]
  },
  {
   "cell_type": "code",
   "execution_count": 3,
   "id": "8f753cd5-9e6d-41b0-a51a-5ff894bc3a04",
   "metadata": {},
   "outputs": [],
   "source": [
    "from pymongo import MongoClient"
   ]
  },
  {
   "cell_type": "code",
   "execution_count": 4,
   "id": "4a398176-107b-46c3-8c6a-9d5cb4de07f7",
   "metadata": {},
   "outputs": [],
   "source": [
    "client = MongoClient('mongodb://localhost:27017/')\n",
    "db = client['test']\n",
    "collection = db['test']"
   ]
  },
  {
   "cell_type": "code",
   "execution_count": 5,
   "id": "2025400e-6eee-4fa6-90f8-f419c5718c43",
   "metadata": {},
   "outputs": [
    {
     "name": "stdout",
     "output_type": "stream",
     "text": [
      "{'_id': ObjectId('671876b10578473d33baef31'), 'Unnamed: 0': 0, 'rank': '24,129', 'trend': '18', 'season': 1, 'episode': 1, 'name': \"I'm Luffy! The Man Who Will Become the Pirate King!\", 'start': 1999, 'total_votes': '647', 'average_rating': 7.6}\n"
     ]
    }
   ],
   "source": [
    "document=collection.find_one()\n",
    "print(document)"
   ]
  },
  {
   "cell_type": "code",
   "execution_count": 6,
   "id": "c896849f-87ba-4ca2-bf3c-bb2243178dee",
   "metadata": {},
   "outputs": [],
   "source": [
    "import nest_asyncio\n",
    "import threading"
   ]
  },
  {
   "cell_type": "code",
   "execution_count": 8,
   "id": "9bb7761e-13ed-43d4-bf8f-11db50a471e9",
   "metadata": {},
   "outputs": [],
   "source": [
    "from flask import Flask,jsonify"
   ]
  },
  {
   "cell_type": "code",
   "execution_count": 9,
   "id": "0718d892-2ca6-4b3e-8dfc-b35dd4811c08",
   "metadata": {},
   "outputs": [],
   "source": [
    "app = Flask(__name__)"
   ]
  },
  {
   "cell_type": "code",
   "execution_count": null,
   "id": "77ffc14b-5bdc-45df-ba2f-059e8ca9db5f",
   "metadata": {},
   "outputs": [],
   "source": [
    "@app.route('/episodes', methods=['GET'])\n",
    "def get_episodes():\n",
    "    episodes = list(collection.find({}, {'_id': 0}))  # Exclude _id\n",
    "    return jsonify(episodes)\n",
    "\n",
    "@app.route('/episode<int:episode_id>', methods=['GET'])\n",
    "def get_episode_by_id(episode_id):\n",
    "    episode = collection.find_one({'Unnamed: 0': episode_id}, {'_id': 0})\n",
    "    if episode:\n",
    "        return jsonify(episode)\n",
    "    return jsonify({\"error\": \"Episode not found\"}), 404\n",
    "\n",
    "# Run Flask in a separate thread so it doesn't block the notebook\n",
    "def run_app():\n",
    "    app.run(host='0.0.0.0', port=5000)\n",
    "\n",
    "threading.Thread(target=run_app).start()"
   ]
  },
  {
   "cell_type": "code",
   "execution_count": null,
   "id": "8ff75784-94fa-4b06-9b34-f86572d31985",
   "metadata": {},
   "outputs": [],
   "source": []
  }
 ],
 "metadata": {
  "kernelspec": {
   "display_name": "Python 3 (ipykernel)",
   "language": "python",
   "name": "python3"
  },
  "language_info": {
   "codemirror_mode": {
    "name": "ipython",
    "version": 3
   },
   "file_extension": ".py",
   "mimetype": "text/x-python",
   "name": "python",
   "nbconvert_exporter": "python",
   "pygments_lexer": "ipython3",
   "version": "3.12.7"
  }
 },
 "nbformat": 4,
 "nbformat_minor": 5
}
